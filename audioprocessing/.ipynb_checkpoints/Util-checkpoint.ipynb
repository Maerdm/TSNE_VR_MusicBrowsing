{
 "cells": [
  {
   "cell_type": "code",
   "execution_count": 2,
   "id": "1e233d4e",
   "metadata": {},
   "outputs": [],
   "source": [
    "from tinytag import TinyTag\n",
    "from PIL import Image\n",
    "from io import BytesIO\n",
    "import pandas as pd\n",
    "import glob, os\n",
    "from pydub import AudioSegment"
   ]
  },
  {
   "cell_type": "code",
   "execution_count": 5,
   "id": "9d8b7716",
   "metadata": {},
   "outputs": [],
   "source": [
    "# CoverArt Loading from audio file\n",
    "music_path = '/Users/matthias/Music/Music/TSNE_VR_Browsing/TSNE_VR_Music/'\n",
    "img_path = '/Users/matthias/Music/Music/TSNE_VR_Browsing/TSNE_VR_CoverArt/'\n",
    "\n",
    "for filename in os.listdir(music_path):\n",
    "    if filename.endswith('.DS_Store'):\n",
    "        continue\n",
    "    name = filename.split('.mp3')\n",
    "    tag = TinyTag.get(str(music_path + '/' + filename), image=True)\n",
    "    image_data = tag.get_image()\n",
    "\n",
    "    # Load image from BytesIO\n",
    "    im = Image.open(BytesIO(image_data))\n",
    "    im.save(img_path + str(name[0]) + '.jpg')"
   ]
  },
  {
   "cell_type": "code",
   "execution_count": null,
   "id": "c35b27d7",
   "metadata": {},
   "outputs": [],
   "source": [
    "# Rename Files to 0001.mp3\n",
    "music_path = '/Users/matthias/Music/Music/TSNE_VR_Browsing/TSNE_VR_Music_Int/'\n",
    "\n",
    "for filename in sorted(glob.glob(music_path + '*.mp3')):\n",
    "    src = filename\n",
    "    if filename.endswith('.DS_Store'):\n",
    "        continue\n",
    "    filename = filename.split('/')[-1:]\n",
    "    filename = filename[0].split('.mp3')\n",
    "    name = filename[0].split('_')[0]\n",
    "    os.rename(src, music_path + name + '.mp3')"
   ]
  },
  {
   "cell_type": "code",
   "execution_count": 7,
   "id": "5d3c66e9",
   "metadata": {},
   "outputs": [],
   "source": [
    "# Rename Files to 0001.mp3\n",
    "music_path = '/Users/matthias/Music/Music/TSNE_VR_Browsing/TSNE_VR_CoverArt_Number/'\n",
    "\n",
    "for filename in sorted(glob.glob(music_path + '*.jpg')):\n",
    "    src = filename\n",
    "    if filename.endswith('.DS_Store'):\n",
    "        continue\n",
    "    filename = filename.split('/')[-1:]\n",
    "    filename = filename[0].split('.jpg')\n",
    "    name = filename[0].split('_')[0]\n",
    "    os.rename(src, music_path + name + '.jpg')"
   ]
  },
  {
   "cell_type": "code",
   "execution_count": null,
   "id": "65df55f7",
   "metadata": {},
   "outputs": [],
   "source": [
    "# Convert Songs to mp3\n",
    "music_path = '/Users/matthias/Music/Music/TSNE_VR_Browsing/TSNE_VR_Music_Int_Mod/'\n",
    "\n",
    "for filename in sorted(glob.glob(music_path + '*.mp3')):\n",
    "    if filename.endswith('.DS_Store'):\n",
    "        continue\n",
    "    print(filename)\n",
    "    audio_file = AudioSegment.from_file(filename, format=\"mp3\", frame_rate=44100, channels=2, sample_width=2)\n",
    "    audio_file.export(filename, format=\"mp3\")"
   ]
  }
 ],
 "metadata": {
  "kernelspec": {
   "display_name": "Python 3 (ipykernel)",
   "language": "python",
   "name": "python3"
  },
  "language_info": {
   "codemirror_mode": {
    "name": "ipython",
    "version": 3
   },
   "file_extension": ".py",
   "mimetype": "text/x-python",
   "name": "python",
   "nbconvert_exporter": "python",
   "pygments_lexer": "ipython3",
   "version": "3.9.7"
  }
 },
 "nbformat": 4,
 "nbformat_minor": 5
}
