{
 "cells": [
  {
   "cell_type": "code",
   "execution_count": null,
   "id": "60df5ee9",
   "metadata": {},
   "outputs": [],
   "source": [
    "from tinytag import TinyTag\n",
    "from PIL import Image\n",
    "from io import BytesIO\n",
    "import glob, os\n",
    "from pydub import AudioSegment\n",
    "\n",
    "import pandas as pd\n",
    "from sklearn.manifold import TSNE\n",
    "from scipy.stats import zscore\n",
    "import seaborn as sns\n",
    "import numpy as np\n",
    "import matplotlib.pyplot as plt\n",
    "from mpl_toolkits.mplot3d import Axes3D\n",
    "from matplotlib.ticker import NullFormatter\n",
    "import json\n",
    "from numpyencoder import NumpyEncoder\n",
    "\n",
    "pd.set_option(\"display.max_columns\", None)"
   ]
  },
  {
   "cell_type": "code",
   "execution_count": null,
   "id": "0f19f196",
   "metadata": {},
   "outputs": [],
   "source": [
    "# CoverArt Loading from audio file\n",
    "music_path = ''\n",
    "img_path = ''\n",
    "\n",
    "for filename in os.listdir(music_path):\n",
    "    if filename.endswith('.DS_Store'):\n",
    "        continue\n",
    "    name = filename.split('.mp3')\n",
    "    tag = TinyTag.get(str(music_path + '/' + filename), image=True)\n",
    "    image_data = tag.get_image()\n",
    "\n",
    "    # Load image from BytesIO\n",
    "    im = Image.open(BytesIO(image_data))\n",
    "    im.save(img_path + str(name[0]) + '.jpg')"
   ]
  },
  {
   "cell_type": "code",
   "execution_count": null,
   "id": "0175ff78",
   "metadata": {},
   "outputs": [],
   "source": [
    "# Convert Songs to mp3\n",
    "music_path = ''\n",
    "\n",
    "for filename in sorted(glob.glob(music_path + '*.mp3')):\n",
    "    if filename.endswith('.DS_Store'):\n",
    "        continue\n",
    "    print(filename)\n",
    "    audio_file = AudioSegment.from_file(filename, format=\"mp3\", frame_rate=44100, channels=2, sample_width=2)\n",
    "    audio_file.export(filename, format=\"mp3\")"
   ]
  }
 ],
 "metadata": {
  "kernelspec": {
   "display_name": "Python 3 (ipykernel)",
   "language": "python",
   "name": "python3"
  },
  "language_info": {
   "codemirror_mode": {
    "name": "ipython",
    "version": 3
   },
   "file_extension": ".py",
   "mimetype": "text/x-python",
   "name": "python",
   "nbconvert_exporter": "python",
   "pygments_lexer": "ipython3",
   "version": "3.9.7"
  }
 },
 "nbformat": 4,
 "nbformat_minor": 5
}
