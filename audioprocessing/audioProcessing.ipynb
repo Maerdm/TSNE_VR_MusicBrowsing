{
 "cells": [
  {
   "cell_type": "code",
   "execution_count": null,
   "id": "c45dfb4a",
   "metadata": {},
   "outputs": [],
   "source": [
    "# this notebook is not up to date. Just some code snippets used for generating the xyz-coordinates \n",
    "# for t-SNE plotting and feature searching\n",
    "\n",
    "from tinytag import TinyTag\n",
    "from PIL import Image\n",
    "from io import BytesIO\n",
    "import glob, os\n",
    "from pydub import AudioSegment\n",
    "import pandas as pd\n",
    "from sklearn.manifold import TSNE\n",
    "from scipy.stats import zscore\n",
    "import seaborn as sns\n",
    "import numpy as np\n",
    "import matplotlib.pyplot as plt\n",
    "from mpl_toolkits.mplot3d import Axes3D\n",
    "from matplotlib.ticker import NullFormatter\n",
    "import json\n",
    "from numpyencoder import NumpyEncoder\n",
    "\n",
    "pd.set_option(\"display.max_columns\", None)"
   ]
  },
  {
   "cell_type": "code",
   "execution_count": null,
   "id": "17149ce9",
   "metadata": {},
   "outputs": [],
   "source": [
    "# CoverArt Loading from audio file\n",
    "music_path = ''\n",
    "img_path = ''\n",
    "\n",
    "for filename in os.listdir(music_path):\n",
    "    if filename.endswith('.DS_Store'):\n",
    "        continue\n",
    "    name = filename.split('.mp3')\n",
    "    tag = TinyTag.get(str(music_path + '/' + filename), image=True)\n",
    "    image_data = tag.get_image()\n",
    "\n",
    "    # Load image from BytesIO\n",
    "    im = Image.open(BytesIO(image_data))\n",
    "    im.save(img_path + str(name[0]) + '.jpg')"
   ]
  },
  {
   "cell_type": "code",
   "execution_count": null,
   "id": "ce7def59",
   "metadata": {},
   "outputs": [],
   "source": [
    "# Convert Songs to mp3\n",
    "music_path = ''\n",
    "\n",
    "for filename in sorted(glob.glob(music_path + '*.mp3')):\n",
    "    if filename.endswith('.DS_Store'):\n",
    "        continue\n",
    "    print(filename)\n",
    "    audio_file = AudioSegment.from_file(filename, format=\"mp3\", frame_rate=44100, channels=2, sample_width=2)\n",
    "    audio_file.export(filename, format=\"mp3\")"
   ]
  },
  {
   "cell_type": "code",
   "execution_count": null,
   "id": "3041471b",
   "metadata": {},
   "outputs": [],
   "source": [
    "# T-SNE\n",
    "non_numeric = ['Unnamed: 0', 'Track', 'adress']\n",
    "df = pd.read_csv(d_path)\n",
    "\n",
    "# drop non numeric and zscore\n",
    "df_numeric = df.drop(non_numeric, axis=1)\n",
    "df_z = stats.zscore(df_numeric)\n",
    "m = TSNE(learning_rate = 50, n_components = 3)\n",
    "tsne_features = m.fit_transform(df_z)\n",
    "\n",
    "\n",
    "# 2D T-SNE\n",
    "df['x'] = tsne_features[:,0]\n",
    "df['y'] = tsne_features[:,1]\n",
    "plt = sns.scatterplot(x= 'x', y = 'y', hue=df['instrumental'], data=df)\n",
    "plt.plot()"
   ]
  }
 ],
 "metadata": {
  "kernelspec": {
   "display_name": "Python 3 (ipykernel)",
   "language": "python",
   "name": "python3"
  },
  "language_info": {
   "codemirror_mode": {
    "name": "ipython",
    "version": 3
   },
   "file_extension": ".py",
   "mimetype": "text/x-python",
   "name": "python",
   "nbconvert_exporter": "python",
   "pygments_lexer": "ipython3",
   "version": "3.9.7"
  }
 },
 "nbformat": 4,
 "nbformat_minor": 5
}
